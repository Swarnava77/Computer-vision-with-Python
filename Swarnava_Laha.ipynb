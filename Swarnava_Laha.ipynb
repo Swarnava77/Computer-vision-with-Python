{
  "nbformat": 4,
  "nbformat_minor": 0,
  "metadata": {
    "colab": {
      "name": "Swarnava Laha.ipynb",
      "provenance": []
    },
    "kernelspec": {
      "name": "python3",
      "display_name": "Python 3"
    }
  },
  "cells": [
    {
      "cell_type": "code",
      "metadata": {
        "id": "YYX4niPzdUFX"
      },
      "source": [
        "import tensorflow as tf\r\n",
        "\r\n",
        "from tensorflow.keras import datasets, layers, models\r\n",
        "import matplotlib.pyplot as plt"
      ],
      "execution_count": 1,
      "outputs": []
    },
    {
      "cell_type": "code",
      "metadata": {
        "colab": {
          "base_uri": "https://localhost:8080/"
        },
        "id": "-bfER430p60u",
        "outputId": "99a5f6af-bb00-4e02-d9be-f1984e4e71ab"
      },
      "source": [
        "(train_images, train_labels), (test_images, test_labels) = datasets.cifar10.load_data()\r\n",
        "\r\n",
        "train_images, test_images = train_images / 255.0, test_images / 255.0\r\n"
      ],
      "execution_count": 2,
      "outputs": [
        {
          "output_type": "stream",
          "text": [
            "Downloading data from https://www.cs.toronto.edu/~kriz/cifar-10-python.tar.gz\n",
            "170500096/170498071 [==============================] - 7s 0us/step\n"
          ],
          "name": "stdout"
        }
      ]
    },
    {
      "cell_type": "code",
      "metadata": {
        "id": "pf7sS1Gxq4k_"
      },
      "source": [
        "model = models.Sequential()\r\n",
        "model.add(layers.Conv2D(32,(3, 3), activation='relu', input_shape=(32, 32, 3)))\r\n",
        "model.add(layers.MaxPooling2D((2,2)))\r\n",
        "model.add(layers.Conv2D(64, (3, 3), activation='relu'))\r\n",
        "model.add(layers.MaxPooling2D((2,2)))\r\n",
        "model.add(layers.Conv2D(64, (3, 3), activation='relu'))\r\n"
      ],
      "execution_count": 4,
      "outputs": []
    },
    {
      "cell_type": "code",
      "metadata": {
        "colab": {
          "base_uri": "https://localhost:8080/"
        },
        "id": "RWcENJTitB7d",
        "outputId": "913a4b02-e2da-48a4-9e3b-98364c45576a"
      },
      "source": [
        "model.summary()"
      ],
      "execution_count": 5,
      "outputs": [
        {
          "output_type": "stream",
          "text": [
            "Model: \"sequential\"\n",
            "_________________________________________________________________\n",
            "Layer (type)                 Output Shape              Param #   \n",
            "=================================================================\n",
            "conv2d (Conv2D)              (None, 30, 30, 32)        896       \n",
            "_________________________________________________________________\n",
            "max_pooling2d (MaxPooling2D) (None, 15, 15, 32)        0         \n",
            "_________________________________________________________________\n",
            "conv2d_1 (Conv2D)            (None, 13, 13, 64)        18496     \n",
            "_________________________________________________________________\n",
            "max_pooling2d_1 (MaxPooling2 (None, 6, 6, 64)          0         \n",
            "_________________________________________________________________\n",
            "conv2d_2 (Conv2D)            (None, 4, 4, 64)          36928     \n",
            "=================================================================\n",
            "Total params: 56,320\n",
            "Trainable params: 56,320\n",
            "Non-trainable params: 0\n",
            "_________________________________________________________________\n"
          ],
          "name": "stdout"
        }
      ]
    },
    {
      "cell_type": "code",
      "metadata": {
        "id": "9LcQm26UtipQ"
      },
      "source": [
        "model.add(layers.Flatten())\r\n",
        "model.add(layers.Dense(64, activation='relu'))\r\n",
        "model.add(layers.Dense(10))\r\n"
      ],
      "execution_count": 6,
      "outputs": []
    },
    {
      "cell_type": "code",
      "metadata": {
        "colab": {
          "base_uri": "https://localhost:8080/"
        },
        "id": "l810cFY7uBm0",
        "outputId": "aed83e80-a9b3-4248-c65e-52fb18b6ff3a"
      },
      "source": [
        "model.summary()"
      ],
      "execution_count": 7,
      "outputs": [
        {
          "output_type": "stream",
          "text": [
            "Model: \"sequential\"\n",
            "_________________________________________________________________\n",
            "Layer (type)                 Output Shape              Param #   \n",
            "=================================================================\n",
            "conv2d (Conv2D)              (None, 30, 30, 32)        896       \n",
            "_________________________________________________________________\n",
            "max_pooling2d (MaxPooling2D) (None, 15, 15, 32)        0         \n",
            "_________________________________________________________________\n",
            "conv2d_1 (Conv2D)            (None, 13, 13, 64)        18496     \n",
            "_________________________________________________________________\n",
            "max_pooling2d_1 (MaxPooling2 (None, 6, 6, 64)          0         \n",
            "_________________________________________________________________\n",
            "conv2d_2 (Conv2D)            (None, 4, 4, 64)          36928     \n",
            "_________________________________________________________________\n",
            "flatten (Flatten)            (None, 1024)              0         \n",
            "_________________________________________________________________\n",
            "dense (Dense)                (None, 64)                65600     \n",
            "_________________________________________________________________\n",
            "dense_1 (Dense)              (None, 10)                650       \n",
            "=================================================================\n",
            "Total params: 122,570\n",
            "Trainable params: 122,570\n",
            "Non-trainable params: 0\n",
            "_________________________________________________________________\n"
          ],
          "name": "stdout"
        }
      ]
    },
    {
      "cell_type": "code",
      "metadata": {
        "colab": {
          "base_uri": "https://localhost:8080/"
        },
        "id": "nyJlmVhEuHIx",
        "outputId": "0b571f7c-2e8b-46f8-9a46-ea54ceb46785"
      },
      "source": [
        "model.compile(optimizer='adam',\r\n",
        "              loss=tf.keras.losses.SparseCategoricalCrossentropy(from_logits=True),\r\n",
        "              metrics=['accuracy'])\r\n",
        "\r\n",
        "history = model.fit(train_images, train_labels, epochs=10,\r\n",
        "                    validation_data=(test_images, test_labels))\r\n"
      ],
      "execution_count": 8,
      "outputs": [
        {
          "output_type": "stream",
          "text": [
            "Epoch 1/10\n",
            "1563/1563 [==============================] - 67s 42ms/step - loss: 1.7738 - accuracy: 0.3406 - val_loss: 1.2791 - val_accuracy: 0.5379\n",
            "Epoch 2/10\n",
            "1563/1563 [==============================] - 64s 41ms/step - loss: 1.1757 - accuracy: 0.5838 - val_loss: 1.1148 - val_accuracy: 0.6038\n",
            "Epoch 3/10\n",
            "1563/1563 [==============================] - 63s 40ms/step - loss: 0.9968 - accuracy: 0.6505 - val_loss: 0.9667 - val_accuracy: 0.6575\n",
            "Epoch 4/10\n",
            "1563/1563 [==============================] - 62s 40ms/step - loss: 0.8977 - accuracy: 0.6848 - val_loss: 0.9307 - val_accuracy: 0.6742\n",
            "Epoch 5/10\n",
            "1563/1563 [==============================] - 62s 40ms/step - loss: 0.8234 - accuracy: 0.7106 - val_loss: 0.8792 - val_accuracy: 0.6950\n",
            "Epoch 6/10\n",
            "1563/1563 [==============================] - 64s 41ms/step - loss: 0.7618 - accuracy: 0.7330 - val_loss: 0.8980 - val_accuracy: 0.6924\n",
            "Epoch 7/10\n",
            "1563/1563 [==============================] - 62s 40ms/step - loss: 0.7106 - accuracy: 0.7489 - val_loss: 0.8307 - val_accuracy: 0.7190\n",
            "Epoch 8/10\n",
            "1563/1563 [==============================] - 63s 40ms/step - loss: 0.6671 - accuracy: 0.7654 - val_loss: 0.8333 - val_accuracy: 0.7114\n",
            "Epoch 9/10\n",
            "1563/1563 [==============================] - 62s 40ms/step - loss: 0.6289 - accuracy: 0.7812 - val_loss: 0.8523 - val_accuracy: 0.7187\n",
            "Epoch 10/10\n",
            "1563/1563 [==============================] - 62s 40ms/step - loss: 0.5931 - accuracy: 0.7928 - val_loss: 0.8432 - val_accuracy: 0.7219\n"
          ],
          "name": "stdout"
        }
      ]
    },
    {
      "cell_type": "code",
      "metadata": {
        "colab": {
          "base_uri": "https://localhost:8080/"
        },
        "id": "2YU15EdZvNsY",
        "outputId": "1905c6a9-fe1a-45c0-d947-79f7af7808b7"
      },
      "source": [
        "test_loss, test_acc = model.evaluate(test_images, test_labels, verbose=2)\r\n"
      ],
      "execution_count": 9,
      "outputs": [
        {
          "output_type": "stream",
          "text": [
            "313/313 - 4s - loss: 0.8432 - accuracy: 0.7219\n"
          ],
          "name": "stdout"
        }
      ]
    },
    {
      "cell_type": "code",
      "metadata": {
        "colab": {
          "base_uri": "https://localhost:8080/"
        },
        "id": "zW3AnqNMxpJP",
        "outputId": "dcf8a216-0598-4b6f-a7a6-ec3592464c62"
      },
      "source": [
        "print(test_acc)\r\n"
      ],
      "execution_count": 10,
      "outputs": [
        {
          "output_type": "stream",
          "text": [
            "0.7218999862670898\n"
          ],
          "name": "stdout"
        }
      ]
    }
  ]
}